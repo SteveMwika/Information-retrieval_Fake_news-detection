{
 "cells": [
  {
   "cell_type": "code",
   "execution_count": null,
   "id": "7f18a42d-8150-4be0-88c9-cf541fb1a063",
   "metadata": {},
   "outputs": [],
   "source": [
    "# data_preprocessing.py\n",
    "import pandas as pd\n",
    "from sklearn.model_selection import train_test_split\n",
    "\n",
    "def load_and_preprocess_data(fake_data_path, real_data_path):\n",
    "    # Load data\n",
    "    fake_data = pd.read_csv(fake_data_path)\n",
    "    real_data = pd.read_csv(real_data_path)\n",
    "\n",
    "    # Add target labels\n",
    "    fake_data['label'] = 0  # 0 for fake news\n",
    "    real_data['label'] = 1  # 1 for real news\n",
    "\n",
    "    # Concatenate datasets\n",
    "    data = pd.concat([fake_data, real_data], ignore_index=True)\n",
    "\n",
    "    # Basic text cleaning can go here if necessary\n",
    "    data = data.sample(frac=1).reset_index(drop=True)  # Shuffle data\n",
    "\n",
    "    # Split into train and test sets\n",
    "    train_data, test_data = train_test_split(data, test_size=0.2, random_state=42)\n",
    "    \n",
    "    return train_data, test_data\n"
   ]
  }
 ],
 "metadata": {
  "kernelspec": {
   "display_name": "Python 3 (ipykernel)",
   "language": "python",
   "name": "python3"
  },
  "language_info": {
   "codemirror_mode": {
    "name": "ipython",
    "version": 3
   },
   "file_extension": ".py",
   "mimetype": "text/x-python",
   "name": "python",
   "nbconvert_exporter": "python",
   "pygments_lexer": "ipython3",
   "version": "3.12.7"
  }
 },
 "nbformat": 4,
 "nbformat_minor": 5
}
