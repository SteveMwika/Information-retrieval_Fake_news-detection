{
 "cells": [
  {
   "cell_type": "code",
   "execution_count": 1,
   "id": "e9f2d0ec-e2d5-462b-abba-e6b2ad9ba803",
   "metadata": {},
   "outputs": [],
   "source": [
    "import pandas as pd\n",
    "import torch\n",
    "from transformers import AutoTokenizer, DistilBertForSequenceClassification, Trainer, TrainingArguments\n",
    "from torch import nn, optim\n",
    "from transformers import BertModel, BertTokenizer\n",
    "from sklearn.model_selection import train_test_split\n",
    "from sklearn.metrics import accuracy_score\n",
    "from torch.utils.data import DataLoader, TensorDataset\n"
   ]
  },
  {
   "cell_type": "code",
   "execution_count": 2,
   "id": "2b5c02bd-f81a-4286-9127-127d3b1e751e",
   "metadata": {},
   "outputs": [],
   "source": [
    "# Paths to datasets\n",
    "fake_data_path = \"E:/Computer Science/Computer Science Fall 2024/Information Retrival/Jupter/Jupyter_Practice/Fake.csv\"\n",
    "real_data_path = \"E:/Computer Science/Computer Science Fall 2024/Information Retrival/Jupter/Jupyter_Practice/True.csv\"\n",
    "\n",
    "# Load datasets\n",
    "fake_data = pd.read_csv(fake_data_path)\n",
    "real_data = pd.read_csv(real_data_path)\n",
    "\n",
    "# Label datasets\n",
    "fake_data['label'] = 0\n",
    "real_data['label'] = 1\n",
    "\n",
    "# Combine datasets\n",
    "combined_data = pd.concat([fake_data[['text', 'label']], real_data[['text', 'label']]], ignore_index=True)\n"
   ]
  },
  {
   "cell_type": "code",
   "execution_count": 3,
   "id": "8252e19a-4790-401a-90ad-ee83b3ddb328",
   "metadata": {},
   "outputs": [],
   "source": [
    "# Split into training and validation sets\n",
    "train_texts, val_texts, train_labels, val_labels = train_test_split(\n",
    "    combined_data['text'], combined_data['label'], test_size=0.2, random_state=42\n",
    ")\n"
   ]
  },
  {
   "cell_type": "code",
   "execution_count": 4,
   "id": "15b99562-7cd8-4921-a1b5-d6507a700fdd",
   "metadata": {},
   "outputs": [],
   "source": [
    "# Load pre-trained tokenizer\n",
    "tokenizer = BertTokenizer.from_pretrained(\"bert-base-uncased\")\n"
   ]
  },
  {
   "cell_type": "code",
   "execution_count": 5,
   "id": "4effeac8-5978-44ef-a7c5-21ab1bc2a9d1",
   "metadata": {},
   "outputs": [],
   "source": [
    "# Function to tokenize data\n",
    "def tokenize_data(texts, max_len=100):\n",
    "    tokens = tokenizer(texts, padding=True, truncation=True, max_length=max_len, return_tensors=\"pt\")\n",
    "    return tokens['input_ids'], tokens['attention_mask']"
   ]
  },
  {
   "cell_type": "code",
   "execution_count": 6,
   "id": "b4a23ce0-fb92-4d90-8ce9-59c42a9d3133",
   "metadata": {},
   "outputs": [],
   "source": [
    "# Define DataLoader creation function\n",
    "def create_dataloader(texts, labels, batch_size=8, max_len=64):\n",
    "    input_ids, attention_masks = tokenize_data(texts.tolist(), max_len)\n",
    "    labels = torch.tensor(labels.values)\n",
    "    dataset = TensorDataset(input_ids, attention_masks, labels)\n",
    "    return DataLoader(dataset, batch_size=batch_size, shuffle=True)"
   ]
  },
  {
   "cell_type": "code",
   "execution_count": 7,
   "id": "c4e63d1d-a216-4f22-9086-7dd4c3218863",
   "metadata": {},
   "outputs": [],
   "source": [
    "# Create DataLoaders for training and validation\n",
    "train_loader = create_dataloader(train_texts, train_labels, batch_size=8)\n",
    "val_loader = create_dataloader(val_texts, val_labels, batch_size=8)"
   ]
  },
  {
   "cell_type": "code",
   "execution_count": 8,
   "id": "bdff609a-ff57-4eb0-89c0-bbcf452f2a70",
   "metadata": {},
   "outputs": [],
   "source": [
    "# Define BERT-based fake news detector model\n",
    "class BertBasedFakeNewsDetector(nn.Module):\n",
    "    def __init__(self):\n",
    "        super(BertBasedFakeNewsDetector, self).__init__()\n",
    "        self.bert = BertModel.from_pretrained(\"bert-base-uncased\")\n",
    "        for param in self.bert.parameters():\n",
    "            param.requires_grad = False\n",
    "        self.dropout = nn.Dropout(0.5)\n",
    "        self.dense1 = nn.Linear(self.bert.config.hidden_size, 64)\n",
    "        self.tanh = nn.Tanh()\n",
    "        self.output = nn.Linear(64, 1)\n",
    "        self.sigmoid = nn.Sigmoid()\n",
    "    \n",
    "    def forward(self, input_ids, attention_mask):\n",
    "        pooled_output = self.bert(input_ids=input_ids, attention_mask=attention_mask).pooler_output\n",
    "        x = self.dropout(pooled_output)\n",
    "        x = self.tanh(self.dense1(x))\n",
    "        x = self.dropout(x)\n",
    "        x = self.sigmoid(self.output(x))\n",
    "        return x"
   ]
  },
  {
   "cell_type": "code",
   "execution_count": 9,
   "id": "2a2ca7b9-0894-42f5-a5a5-8754ded5209e",
   "metadata": {},
   "outputs": [
    {
     "name": "stdout",
     "output_type": "stream",
     "text": [
      "CUDA available: True\n"
     ]
    }
   ],
   "source": [
    "# Set up GPU\n",
    "device = torch.device('cuda' if torch.cuda.is_available() else 'cpu')\n",
    "model = BertBasedFakeNewsDetector().to(device)\n",
    "print(\"CUDA available:\", torch.cuda.is_available())\n"
   ]
  },
  {
   "cell_type": "code",
   "execution_count": 10,
   "id": "6bc2ff9c-a712-45ab-935a-24e87d84e7bc",
   "metadata": {},
   "outputs": [],
   "source": [
    "# Optimizer and loss function\n",
    "optimizer = optim.Adam(model.parameters(), lr=1e-5)\n",
    "criterion = nn.BCELoss()"
   ]
  },
  {
   "cell_type": "code",
   "execution_count": 11,
   "id": "b0d4862f-ce0f-4882-a53a-ef8576032e0c",
   "metadata": {},
   "outputs": [],
   "source": [
    "# Training function\n",
    "def train_model(model, train_loader, val_loader, epochs=3):\n",
    "    model.train()\n",
    "    for epoch in range(epochs):\n",
    "        total_loss = 0\n",
    "        for input_ids, attention_masks, labels in train_loader:\n",
    "            input_ids, attention_masks, labels = input_ids.to(device), attention_masks.to(device), labels.to(device, dtype=torch.float)\n",
    "            optimizer.zero_grad()\n",
    "            outputs = model(input_ids, attention_mask=attention_masks).squeeze()\n",
    "            loss = criterion(outputs, labels)\n",
    "            total_loss += loss.item()\n",
    "            loss.backward()\n",
    "            optimizer.step()\n",
    "        avg_train_loss = total_loss / len(train_loader)\n",
    "        print(f\"Epoch {epoch + 1}/{epochs}, Loss: {avg_train_loss:.4f}\")\n",
    "        evaluate_model(model, val_loader)"
   ]
  },
  {
   "cell_type": "code",
   "execution_count": 12,
   "id": "8eeafb31-faa4-45c7-86b5-4142e1f38389",
   "metadata": {},
   "outputs": [],
   "source": [
    "# Evaluation function\n",
    "def evaluate_model(model, val_loader):\n",
    "    model.eval()\n",
    "    predictions, true_labels = [], []\n",
    "    with torch.no_grad():\n",
    "        for input_ids, attention_masks, labels in val_loader:\n",
    "            input_ids, attention_masks = input_ids.to(device), attention_masks.to(device)\n",
    "            outputs = model(input_ids, attention_mask=attention_masks).squeeze()\n",
    "            preds = (outputs > 0.5).long()\n",
    "            predictions.extend(preds.cpu().numpy())\n",
    "            true_labels.extend(labels.numpy())\n",
    "    accuracy = accuracy_score(true_labels, predictions)\n",
    "    print(f\"Validation Accuracy: {accuracy:.4f}\")"
   ]
  },
  {
   "cell_type": "code",
   "execution_count": 13,
   "id": "346ebbd8-fc90-4cf5-b44d-00b11c2a48b3",
   "metadata": {},
   "outputs": [],
   "source": [
    "# Prediction function\n",
    "def predict(model, text):\n",
    "    model.eval()\n",
    "    input_ids, attention_mask = tokenize_data([text])\n",
    "    input_ids, attention_mask = input_ids.to(device), attention_mask.to(device)\n",
    "    with torch.no_grad():\n",
    "        output = model(input_ids, attention_mask=attention_mask).squeeze()\n",
    "        prediction = \"Real News\" if output > 0.5 else \"Fake News\"\n",
    "    return prediction"
   ]
  },
  {
   "cell_type": "code",
   "execution_count": null,
   "id": "33159b71-1358-4db3-aa0e-9a919745a883",
   "metadata": {},
   "outputs": [],
   "source": [
    "# Train the model\n",
    "train_model(model, train_loader, val_loader, epochs=2)\n"
   ]
  },
  {
   "cell_type": "code",
   "execution_count": null,
   "id": "6f402a29-ce96-4708-8476-4d6e1f87ac4f",
   "metadata": {},
   "outputs": [],
   "source": [
    "# Example prediction\n",
    "test_text = \"Example news content to classify\"\n",
    "print(\"Prediction:\", predict(model, test_text))"
   ]
  },
  {
   "cell_type": "code",
   "execution_count": null,
   "id": "8301506c-be12-4119-a243-a18646b48153",
   "metadata": {},
   "outputs": [],
   "source": []
  }
 ],
 "metadata": {
  "kernelspec": {
   "display_name": "Python 3 (ipykernel)",
   "language": "python",
   "name": "python3"
  },
  "language_info": {
   "codemirror_mode": {
    "name": "ipython",
    "version": 3
   },
   "file_extension": ".py",
   "mimetype": "text/x-python",
   "name": "python",
   "nbconvert_exporter": "python",
   "pygments_lexer": "ipython3",
   "version": "3.12.7"
  }
 },
 "nbformat": 4,
 "nbformat_minor": 5
}
